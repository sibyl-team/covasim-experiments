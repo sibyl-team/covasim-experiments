{
 "cells": [
  {
   "cell_type": "code",
   "execution_count": null,
   "id": "b739ea74-c8f2-4815-94e2-1f18b69370db",
   "metadata": {},
   "outputs": [],
   "source": []
  },
  {
   "cell_type": "code",
   "execution_count": 1,
   "id": "f7f86553-1220-4a7c-8db8-51bb2e9c859d",
   "metadata": {},
   "outputs": [
    {
     "name": "stdout",
     "output_type": "stream",
     "text": [
      "Covasim 3.0.7 (2021-06-29) — © 2021 by IDM\n"
     ]
    },
    {
     "name": "stderr",
     "output_type": "stream",
     "text": [
      "/home/fmazza/env/covasim/lib/python3.9/site-packages/tqdm/auto.py:22: TqdmWarning: IProgress not found. Please update jupyter and ipywidgets. See https://ipywidgets.readthedocs.io/en/stable/user_install.html\n",
      "  from .autonotebook import tqdm as notebook_tqdm\n"
     ]
    }
   ],
   "source": [
    "import covasim\n",
    "\n",
    "\n",
    "import covasim.utils as cvu\n",
    "\n",
    "from importlib import reload\n",
    "\n",
    "import pandas as pd\n",
    "import numpy as np\n",
    "\n",
    "import matplotlib.pyplot as plt\n",
    "import covasibyl\n",
    "\n",
    "\n",
    "import sys"
   ]
  },
  {
   "cell_type": "code",
   "execution_count": 2,
   "id": "453af4e0-69e5-458e-8df2-124777619f7e",
   "metadata": {},
   "outputs": [],
   "source": [
    "from covasim import settings as cvsets\n",
    "\n",
    "cvsets.set_option(\"show\", False)"
   ]
  },
  {
   "cell_type": "code",
   "execution_count": 3,
   "id": "65488905-7921-432b-ada7-44c79043f9de",
   "metadata": {},
   "outputs": [],
   "source": [
    "from covasibyl.rankers import dotd_rank, tracing_rank, mean_field_rank"
   ]
  },
  {
   "cell_type": "markdown",
   "id": "a9e3ec47-4543-4b48-8db2-37fa46ffff82",
   "metadata": {
    "tags": []
   },
   "source": [
    "## Run Sim with rankers"
   ]
  },
  {
   "cell_type": "code",
   "execution_count": 4,
   "id": "c0cd0e48-6e31-433c-ac61-1f180081a98d",
   "metadata": {},
   "outputs": [],
   "source": [
    "pars_sim={\"pop_type\":\"hybrid\",#\"pop_type\":\"synthpops\",\n",
    "          \"location\":\"UK\",\n",
    "          \"n_days\":100, \n",
    "          \"pop_size\":20_000,\n",
    "          \"pop_infected\":5,\n",
    "          \"rand_seed\":3,\n",
    "          \"rescale\":False,\n",
    "         }\n",
    "\n",
    "pars_sim_test = dict(pars_sim)\n",
    "#pars_sim_test[\"n_days\"] = 60\n",
    "pars_sim_test[\"dynam_layer\"] = {k:1 for k in [\"w\",\"c\"]}\n",
    "#pars_sim_test[\"rand_seed\"] = 5"
   ]
  },
  {
   "cell_type": "code",
   "execution_count": null,
   "id": "26cc9e5a-afd9-4f7a-9fa1-92a97b96889d",
   "metadata": {},
   "outputs": [],
   "source": []
  },
  {
   "cell_type": "code",
   "execution_count": null,
   "id": "d3788187-c044-48ad-b576-a6c4eeb2c09a",
   "metadata": {},
   "outputs": [],
   "source": []
  },
  {
   "cell_type": "code",
   "execution_count": 5,
   "id": "bc32d9a0-c4a0-4023-90eb-44ba8596c0d3",
   "metadata": {},
   "outputs": [
    {
     "name": "stdout",
     "output_type": "stream",
     "text": [
      "Initializing sim with 20000 people for 100 days\n",
      "Loading location-specific data for \"UK\"\n",
      "  Running 2020-03-01 ( 0/100) (0.98 s)  ———————————————————— 1%\n",
      "  Running 2020-03-11 (10/100) (1.27 s)  ••—————————————————— 11%\n",
      "  Running 2020-03-21 (20/100) (1.58 s)  ••••———————————————— 21%\n",
      "  Running 2020-03-31 (30/100) (1.91 s)  ••••••—————————————— 31%\n",
      "  Running 2020-04-10 (40/100) (2.28 s)  ••••••••———————————— 41%\n",
      "  Running 2020-04-20 (50/100) (2.65 s)  ••••••••••—————————— 50%\n",
      "  Running 2020-04-30 (60/100) (3.01 s)  ••••••••••••———————— 60%\n",
      "  Running 2020-05-10 (70/100) (3.40 s)  ••••••••••••••—————— 70%\n",
      "  Running 2020-05-20 (80/100) (3.79 s)  ••••••••••••••••———— 80%\n",
      "  Running 2020-05-30 (90/100) (4.19 s)  ••••••••••••••••••—— 90%\n",
      "  Running 2020-06-09 (100/100) (4.54 s)  •••••••••••••••••••• 100%\n",
      "\n",
      "Simulation summary:\n",
      "   17043 cumulative infections\n",
      "       0 cumulative reinfections\n",
      "   16918 cumulative infectious\n",
      "   11631 cumulative symptomatic cases\n",
      "    1082 cumulative severe cases\n",
      "     398 cumulative critical cases\n",
      "   16017 cumulative recoveries\n",
      "     170 cumulative deaths\n",
      "       0 cumulative tests\n",
      "       0 cumulative diagnoses\n",
      "       0 cumulative known deaths\n",
      "       0 cumulative quarantined people\n",
      "       0 cumulative vaccinations\n",
      "       0 cumulative vaccinated people\n",
      "\n"
     ]
    },
    {
     "data": {
      "text/plain": [
       "0.016"
      ]
     },
     "execution_count": 5,
     "metadata": {},
     "output_type": "execute_result"
    }
   ],
   "source": [
    "sim_test = covasim.Sim(pars=pars_sim_test)\n",
    "\n",
    "sim_test.run()\n",
    "\n",
    "sim_test.pars[\"beta\"]"
   ]
  },
  {
   "cell_type": "code",
   "execution_count": 6,
   "id": "835c7aa5-c590-403b-a6e0-ac26aaf34f46",
   "metadata": {},
   "outputs": [],
   "source": [
    "covasim.options.set(\"show\",0)"
   ]
  },
  {
   "cell_type": "code",
   "execution_count": 7,
   "id": "5eab93b6-70a5-4318-81a5-90f763cf4e59",
   "metadata": {},
   "outputs": [
    {
     "data": {
      "text/plain": [
       "#0. verbose:        0.1\n",
       "#1. show:           0\n",
       "#2. close:          0\n",
       "#3. backend:        'module://matplotlib_inline.backend_inline'\n",
       "#4. interactive:    True\n",
       "#5. dpi:            72\n",
       "#6. font_size:      10\n",
       "#7. font_family:    ['sans-serif']\n",
       "#8. precision:      32\n",
       "#9. numba_parallel: 'none'\n",
       "#10. numba_cache:    True\n",
       "#11. set:            <function set_option at 0x7f89f3796310>\n",
       "#12. get_default:    <function get_default at 0x7f89f37963a0>\n",
       "#13. help:           <function get_help at 0x7f89f3796430>"
      ]
     },
     "execution_count": 7,
     "metadata": {},
     "output_type": "execute_result"
    }
   ],
   "source": [
    "covasim.options"
   ]
  },
  {
   "cell_type": "code",
   "execution_count": 8,
   "id": "340a508a-17ee-4942-9fab-064a940ffc7d",
   "metadata": {},
   "outputs": [
    {
     "data": {
      "image/png": "[encoded data removed]",
      "text/plain": [
       "<Figure size 720x576 with 2 Axes>"
      ]
     },
     "metadata": {
      "needs_background": "light"
     },
     "output_type": "display_data"
    }
   ],
   "source": [
    "_=sim_test.plot(to_plot={\"Total counts\":[\"cum_diagnoses\", \"cum_infections\", \"cum_symptomatic\"], \"Daily counts\":[\"new_infections\",\"new_diagnoses\"]})"
   ]
  },
  {
   "cell_type": "code",
   "execution_count": 9,
   "id": "5df37f61-53a3-4382-a851-f3dd81c852fe",
   "metadata": {},
   "outputs": [
    {
     "data": {
      "text/plain": [
       "array([[False, False, False, ..., False, False, False]])"
      ]
     },
     "execution_count": 9,
     "metadata": {},
     "output_type": "execute_result"
    }
   ],
   "source": [
    "sim_test.people.infectious_by_variant"
   ]
  },
  {
   "cell_type": "code",
   "execution_count": 10,
   "id": "4937dcfc-52d4-43e9-ab5c-6daddd847b31",
   "metadata": {},
   "outputs": [],
   "source": [
    "beta=0.016"
   ]
  },
  {
   "cell_type": "code",
   "execution_count": 11,
   "id": "5aec8dd8-6fae-4656-8b58-5ec4b81c617a",
   "metadata": {},
   "outputs": [],
   "source": [
    "no_quar_red = {\n",
    "    \"quar_factor\":dict(zip([\"h\",\"s\",\"c\",\"w\"],[1.]*4))\n",
    "}"
   ]
  },
  {
   "cell_type": "code",
   "execution_count": 12,
   "id": "75939753-a089-4353-9a22-841a9cad6b0d",
   "metadata": {},
   "outputs": [],
   "source": [
    "full_iso_pars={\n",
    "     'iso_factor': {'h': 0., 's': 0., 'w': 0., 'c': 0.},\n",
    "}"
   ]
  },
  {
   "cell_type": "code",
   "execution_count": 14,
   "id": "13fd3624-1d4d-4f68-aaa0-338ac869f727",
   "metadata": {},
   "outputs": [
    {
     "data": {
      "text/plain": [
       "<module 'covasibyl.ranktest' from '/home/fmazza/projects/covasim_integration/interventions/covasibyl/ranktest.py'>"
      ]
     },
     "execution_count": 14,
     "metadata": {},
     "output_type": "execute_result"
    }
   ],
   "source": [
    "import covasibyl.ranktest as rktest\n",
    "reload(sys.modules[\"covasibyl.tester\"])\n",
    "reload(rktest)"
   ]
  },
  {
   "cell_type": "code",
   "execution_count": 27,
   "id": "c54851da-9510-4b89-aace-585c324d086c",
   "metadata": {},
   "outputs": [],
   "source": [
    "sp = dict(pars_sim_test)\n",
    "sp.update(no_quar_red)"
   ]
  },
  {
   "cell_type": "code",
   "execution_count": 15,
   "id": "74b40340-e514-4d9b-a6e7-ed9cdbde53eb",
   "metadata": {},
   "outputs": [],
   "source": [
    "import sib"
   ]
  },
  {
   "cell_type": "code",
   "execution_count": 16,
   "id": "a0fe7160-2367-4d10-a775-99a8f553c4da",
   "metadata": {},
   "outputs": [],
   "source": [
    "from scipy.special import expit"
   ]
  },
  {
   "cell_type": "code",
   "execution_count": 17,
   "id": "7946d013-cb7c-417d-b932-316091f3181a",
   "metadata": {},
   "outputs": [
    {
     "data": {
      "text/plain": [
       "<module 'covasibyl.utils' from '/home/fmazza/projects/covasim_integration/interventions/covasibyl/utils.py'>"
      ]
     },
     "execution_count": 17,
     "metadata": {},
     "output_type": "execute_result"
    }
   ],
   "source": [
    "from covasibyl import utils\n",
    "reload(utils)"
   ]
  },
  {
   "cell_type": "code",
   "execution_count": 18,
   "id": "fdcc9d14-1774-470e-928b-6f8452fa8d29",
   "metadata": {},
   "outputs": [
    {
     "data": {
      "text/plain": [
       "<module 'covasibyl.rankers.sib_rank' from '/home/fmazza/projects/covasim_integration/interventions/covasibyl/rankers/sib_rank.py'>"
      ]
     },
     "execution_count": 18,
     "metadata": {},
     "output_type": "execute_result"
    }
   ],
   "source": [
    "from covasibyl.rankers import sib_rank\n",
    "reload(sib_rank)"
   ]
  },
  {
   "cell_type": "code",
   "execution_count": 29,
   "id": "36c62bce-35c8-4c2e-a262-fcbc3ee04645",
   "metadata": {},
   "outputs": [],
   "source": [
    "ct = covasim.contact_tracing(trace_probs=.4, trace_time=1, start_day=10)"
   ]
  },
  {
   "cell_type": "code",
   "execution_count": 19,
   "id": "1d2ec4e4-6988-41c7-a6bf-27f9907a3850",
   "metadata": {},
   "outputs": [],
   "source": [
    "pars_nov0=(1.21533407, 3.87484739)\n",
    "pars_vlow=(1.04475749, 5.97047953)\n",
    "\n",
    "T = pars_sim[\"n_days\"]\n",
    "\n",
    "values_vload= [1.53846, 0.76923]\n",
    "\n",
    "u0 = expit(pars_nov0[0]*(range(T+1) - pars_nov0[1]*np.ones(T+1)))\n",
    "u1 = expit(pars_vlow[0]*(range(T+1) - pars_vlow[1]*np.ones(T+1)))\n",
    "\n",
    "vact = u0*values_vload[0]+(values_vload[1]-values_vload[0])*u1\n",
    "\n",
    "gamma_p=(11.40049704552924, 0.8143055827103249)\n",
    "\n",
    "def divmax(x):\n",
    "    return x/max(x)\n",
    "\n",
    "rec_dist = utils.gamma_pdf_full(np.arange(0,T+1), *gamma_p)\n",
    "\n",
    "prob_i = sib.PiecewiseLinear(sib.RealParams(\n",
    "    list((vact*beta))))\n",
    "prob_r = sib.PiecewiseLinear(sib.RealParams(\n",
    "    list(1-rec_dist.cumsum()) ))"
   ]
  },
  {
   "cell_type": "code",
   "execution_count": 20,
   "id": "53bfba19-d3c2-4846-9ad7-1af69b8afb76",
   "metadata": {},
   "outputs": [],
   "source": [
    "N = pars_sim[\"pop_size\"]\n",
    "prob_seed = 1/N\n",
    "prob_sus = 0.5\n",
    "pseed = prob_seed / (2 - prob_seed)\n",
    "psus = prob_sus * (1 - pseed)\n",
    "pautoinf = 1e-6\n",
    "fp_rate = 0.0\n",
    "fn_rate = 0.0\n",
    "sibPars = sib.Params(\n",
    "        prob_i=prob_i,#sib.Uniform(beta), #prob_i,\n",
    "        prob_r=prob_r, #sib.Exponential(0.06), #prob_r,\n",
    "        pseed=pseed,\n",
    "        psus=psus,\n",
    "        pautoinf=pautoinf)\n"
   ]
  },
  {
   "cell_type": "code",
   "execution_count": 24,
   "id": "21c36fff-fea2-41f9-a644-922ff8c09a30",
   "metadata": {},
   "outputs": [],
   "source": [
    "class dummy_logger:\n",
    "    def info(self,s):\n",
    "        print(s)"
   ]
  },
  {
   "cell_type": "code",
   "execution_count": 21,
   "id": "61359db4-f2b9-4b64-baa2-023b42d7932b",
   "metadata": {},
   "outputs": [
    {
     "data": {
      "text/plain": [
       "<module 'covasibyl.rankers.sib_rank' from '/home/fmazza/projects/covasim_integration/interventions/covasibyl/rankers/sib_rank.py'>"
      ]
     },
     "execution_count": 21,
     "metadata": {},
     "output_type": "execute_result"
    }
   ],
   "source": [
    "reload(sib_rank)"
   ]
  },
  {
   "cell_type": "code",
   "execution_count": 25,
   "id": "6825f9dd-4e85-42ba-9ae9-d31302560be5",
   "metadata": {},
   "outputs": [],
   "source": [
    "import logging\n",
    "sibRanker = sib_rank.SibRanker(\n",
    "    params=sibPars,\n",
    "    maxit0=15,\n",
    "    maxit1=20,\n",
    "    tol=1e-3,\n",
    "    memory_decay=1e-5,\n",
    "    window_length=21,\n",
    "    tau=0,\n",
    "    fnr=fn_rate,\n",
    "    fpr=fp_rate\n",
    "\n",
    ")\n",
    "sibRkTest = rktest.RankTester(sibRanker, \"sib ranker\",\n",
    "                              num_tests_algo=400,\n",
    "                              num_tests_rand=200,\n",
    "                              symp_test=20.,\n",
    "                              start_day=10,\n",
    "                              logger=dummy_logger(),\n",
    "                             )\n",
    "sib.set_num_threads(26)"
   ]
  },
  {
   "cell_type": "code",
   "execution_count": 30,
   "id": "a9179f3b-e288-464b-a627-1a1bf572464e",
   "metadata": {},
   "outputs": [],
   "source": [
    "sim_ranker_sib = covasim.Sim(pars=sp, interventions=[sibRkTest, ct], label=\"sib rk interv\")#interv,ct,"
   ]
  },
  {
   "cell_type": "code",
   "execution_count": null,
   "id": "c6ef5c26-866d-45f8-ae12-3984da247e82",
   "metadata": {},
   "outputs": [],
   "source": []
  },
  {
   "cell_type": "code",
   "execution_count": null,
   "id": "919e2485-02a9-40cc-b0e7-1a7735cad64f",
   "metadata": {},
   "outputs": [
    {
     "name": "stdout",
     "output_type": "stream",
     "text": [
      "Warning: could not perform deep copy, performing shallow instead: cannot pickle '_sib.Params' object\n",
      "Initializing sim with 20000 people for 100 days\n",
      "Loading location-specific data for \"UK\"\n",
      "Note: you have defined a contact tracing intervention but no testing intervention was found. Unless this is intentional, please define at least one testing intervention.\n",
      "Warning: could not perform deep copy, performing shallow instead: cannot pickle '_sib.Params' object\n",
      "  Running \"sib rk interv\": 2020-03-01 ( 0/100) (1.65 s)  ———————————————————— 1%\n",
      "sib.iterate(damp=0):  2/15 6.661e-16/0.001    \n",
      "sib.iterate(damp=0.5):  0/20 1.554e-15/0.001    \n",
      "winBP: (S,I,R): (19999.0, 1.0, 0.0), seeds: 1.0, ll: -13862.4\n",
      "sib.iterate(damp=0):  2/15 4.457e-09/0.001    \n",
      "sib.iterate(damp=0.5):  0/20 3.109e-15/0.001    \n",
      "winBP: (S,I,R): (19999.0, 1.0, 0.0), seeds: 1.0, ll: -13862.4\n",
      "sib.iterate(damp=0):  2/15 3.443e-08/0.001    \n",
      "sib.iterate(damp=0.5):  0/20 3.209e-11/0.001    \n",
      "winBP: (S,I,R): (19998.9, 1.1, 0.0), seeds: 1.0, ll: -13862.4\n",
      "sib.iterate(damp=0):  2/15 1.612e-07/0.001    \n",
      "sib.iterate(damp=0.5):  0/20 5.166e-10/0.001    \n",
      "winBP: (S,I,R): (19998.8, 1.2, 0.0), seeds: 1.0, ll: -13862.4\n",
      "sib.iterate(damp=0):  2/15 5.599e-07/0.001    \n",
      "sib.iterate(damp=0.5):  0/20 4.316e-09/0.001    \n",
      "winBP: (S,I,R): (19998.5, 1.5, 0.0), seeds: 1.0, ll: -13862.4\n",
      "sib.iterate(damp=0):  2/15 1.828e-06/0.001    \n",
      "sib.iterate(damp=0.5):  0/20 1.717e-08/0.001    \n",
      "winBP: (S,I,R): (19998.2, 1.8, 0.0), seeds: 1.0, ll: -13862.4\n",
      "sib.iterate(damp=0):  2/15 5.083e-06/0.001    \n",
      "sib.iterate(damp=0.5):  0/20 8.884e-08/0.001    \n",
      "winBP: (S,I,R): (19997.8, 2.2, 0.0), seeds: 1.0, ll: -13862.4\n",
      "sib.iterate(damp=0):  2/15 9.784e-06/0.001    \n",
      "sib.iterate(damp=0.5):  0/20 3.042e-07/0.001    \n",
      "winBP: (S,I,R): (19997.4, 2.5, 0.1), seeds: 1.0, ll: -13862.4\n",
      "sib.iterate(damp=0):  2/15 1.723e-05/0.001    \n",
      "sib.iterate(damp=0.5):  0/20 9.356e-07/0.001    \n",
      "winBP: (S,I,R): (19996.9, 2.9, 0.1), seeds: 1.0, ll: -13862.4\n",
      "sib.iterate(damp=0):  2/15 2.885e-05/0.001    \n",
      "sib.iterate(damp=0.5):  0/20 2.379e-06/0.001    \n",
      "winBP: (S,I,R): (19996.4, 3.4, 0.2), seeds: 1.0, ll: -13862.4\n",
      "  Running \"sib rk interv\": 2020-03-11 (10/100) (184.29 s)  ••—————————————————— 11%\n",
      "sib.iterate(damp=0):  2/15 4.768e-05/0.001    \n",
      "sib.iterate(damp=0.5):  0/20 5.990e-06/0.001    \n",
      "winBP: (S,I,R): (19995.8, 3.9, 0.3), seeds: 1.0, ll: -13862.4\n",
      "day 10: AUC_I_rk: 0.363, accu 0.50% res:  [598   2   0]  I: 7 free 7\n",
      "sib.iterate(damp=0):  14/15 8.684e-01/0.001           \n",
      "sib.iterate(damp=0.5):  19/20 8.927e-03/0.001    \n",
      "winBP: (S,I,R): (19987.8, 11.4, 0.8), seeds: 1.5, ll: -13942.0\n",
      "day 11: AUC_I_rk: 0.525, accu 0.50% res:  [592   2   1]  I: 8 free 6\n",
      "sib.iterate(damp=0):  14/15 8.555e-01/0.001       \n",
      "sib.iterate(damp=0.5):  19/20 3.219e-02/0.001        \n",
      "winBP: (S,I,R): (19985.7, 12.6, 1.7), seeds: 1.9, ll: -13940.9\n",
      "day 12: AUC_I_rk: 0.992, accu 0.50% res:  [592   2   1]  I: 11 free 5\n",
      "sib.iterate(damp=0):  14/15 1.225e-01/0.001       \n",
      "sib.iterate(damp=0.5):  19/20 1.030e-03/0.001       \n",
      "winBP: (S,I,R): (19985.1, 12.8, 2.1), seeds: 1.9, ll: -13890.0\n",
      "day 13: AUC_I_rk: 0.782, accu 0.75% res:  [588   6   1]  I: 13 free 6\n",
      "sib.iterate(damp=0):  1/15 9.999e-01/0.001    \r"
     ]
    }
   ],
   "source": [
    "sim_ranker_sib.run()"
   ]
  },
  {
   "cell_type": "code",
   "execution_count": null,
   "id": "e8109869-6daf-4bbc-a0f5-9b49bdf51c95",
   "metadata": {},
   "outputs": [],
   "source": [
    "rkInter = sim_ranker_sib.get_interventions()[0]"
   ]
  },
  {
   "cell_type": "code",
   "execution_count": null,
   "id": "3bedbf53-6202-4308-9e52-3bf24e8082b0",
   "metadata": {},
   "outputs": [],
   "source": [
    "pi = lambda : sib.PiecewiseLinear(ranker.params.prob_i, T+2)\n",
    "pr = lambda : sib.PiecewiseLinear(ranker.params.prob_r, T+2) \n",
    "fg = sib.FactorGraph(params=ranker.params, \n",
    "                     individuals=[(i, ranker.params.prob_i, ranker.params.prob_r, pi(), pr())\n",
    "                                  for i in range(N)])"
   ]
  },
  {
   "cell_type": "code",
   "execution_count": null,
   "id": "4d5b9d67-3f37-495a-b64a-ad9c329f8fc6",
   "metadata": {},
   "outputs": [],
   "source": [
    "conts_m = utils.get_contacts_day(sim_ranker_sib.people)\n",
    "## remove contacts that are isolated (tested)\n",
    "tested_iso = cvu.true(sim_ranker_sib.people.diagnosed)\n",
    "conts_m = utils.filt_contacts_df(conts_m, tested_iso, 0.1, N)\n",
    "\n",
    "conts_m[\"day\"] = 4\n",
    "contacts_day = conts_m[[\"i\",\"j\",\"day\",\"m\"]].to_records(index=False)\n"
   ]
  },
  {
   "cell_type": "code",
   "execution_count": null,
   "id": "e60f1348-f61d-4fcc-8633-3374d16292e5",
   "metadata": {},
   "outputs": [],
   "source": [
    "%%time\n",
    "for c in contacts_day:\n",
    "    fg.append_contact(*c)"
   ]
  },
  {
   "cell_type": "code",
   "execution_count": null,
   "id": "99d9076b-8001-43a1-bfd1-fa1279cdf64c",
   "metadata": {},
   "outputs": [],
   "source": [
    "import numba as nb"
   ]
  },
  {
   "cell_type": "code",
   "execution_count": null,
   "id": "2dcb4795-d705-4aee-9efe-b2f8436946bb",
   "metadata": {},
   "outputs": [],
   "source": [
    "@nb.njit()\n",
    "def add_contacts(contacts, fg):\n",
    "    for c in contacts:\n",
    "        fg.append_contact(*c)"
   ]
  },
  {
   "cell_type": "code",
   "execution_count": null,
   "id": "582ae179-4a47-4cd9-a6c7-7169ae4bd4c6",
   "metadata": {},
   "outputs": [],
   "source": [
    "conts_m"
   ]
  },
  {
   "cell_type": "code",
   "execution_count": null,
   "id": "ce2a94c4-9629-4ab6-b9f5-a179efcb9c92",
   "metadata": {},
   "outputs": [],
   "source": [
    "sim_ranker.get_interventions()[0].prepare_export()"
   ]
  },
  {
   "cell_type": "code",
   "execution_count": null,
   "id": "0cf33b9b-1fa9-449f-8fd2-ba8f4ea08cbd",
   "metadata": {},
   "outputs": [],
   "source": [
    "sim_ranker.save(\"MF_sim.sim\")"
   ]
  },
  {
   "cell_type": "raw",
   "id": "99f17b74-3a80-43f6-ac6c-0170fb5a1d17",
   "metadata": {},
   "source": [
    "_=sim_ct.plot(to_plot={\n",
    "                          \"Infectious\": [\"n_infectious\",\"n_dead\"],\n",
    "                        \"Testing\":[\"n_diagnosed\", \"n_quarantined\"],\n",
    "                         },fig_args=dict(figsize=(8,6)), log_scale=True)\n"
   ]
  },
  {
   "cell_type": "code",
   "execution_count": null,
   "id": "ce2be885-7ec3-4f51-a48d-c764e5564a18",
   "metadata": {},
   "outputs": [],
   "source": [
    "f =sim_ranker.plot(to_plot={\n",
    "                          \"Infectious\": [\"n_infectious\",\"n_dead\"],\n",
    "                        \"Testing\":[\"n_diagnosed\", \"n_quarantined\"],\n",
    "                         },fig_args=dict(figsize=(8,6)), log_scale=True)\n",
    "\"\"\"\n",
    "_=sim_ct.plot(to_plot={\n",
    "                          \"Infectious\": [\"n_infectious\",\"n_dead\"],\n",
    "                        \"Testing\":[\"n_diagnosed\", \"n_quarantined\"],\n",
    "                         },fig=f)\n",
    "\"\"\""
   ]
  },
  {
   "cell_type": "code",
   "execution_count": null,
   "id": "0a55deaf-09e9-434f-bd1a-d6177c4e901c",
   "metadata": {},
   "outputs": [],
   "source": [
    "intervk = sim_ranker.get_interventions()[0]"
   ]
  },
  {
   "cell_type": "code",
   "execution_count": null,
   "id": "c18e19ec-604a-45bf-8da2-c91a65ce3a08",
   "metadata": {},
   "outputs": [],
   "source": [
    "sim_ranker.get_interventions()[0].prepare_export()"
   ]
  },
  {
   "cell_type": "code",
   "execution_count": null,
   "id": "2cbe4199-9846-4103-a720-ad011b6d0117",
   "metadata": {},
   "outputs": [],
   "source": [
    "diff= (sim_ranker.people.diagnosed.astype(int) - intervk.tester.diagnosed.astype(int))"
   ]
  },
  {
   "cell_type": "code",
   "execution_count": null,
   "id": "fb39d1cb-023e-4a09-a295-28ab6cfbb620",
   "metadata": {},
   "outputs": [],
   "source": [
    "diff[diff!=0]"
   ]
  },
  {
   "cell_type": "code",
   "execution_count": null,
   "id": "68ced53e-bfdb-4cc5-b921-ef476d93dd9e",
   "metadata": {},
   "outputs": [],
   "source": [
    "(sim_ranker.people.date_diagnosed < 100).nonzero()"
   ]
  },
  {
   "cell_type": "code",
   "execution_count": null,
   "id": "16b0ac24-100b-464d-b9b6-538a74963093",
   "metadata": {},
   "outputs": [],
   "source": [
    "((intervk.tester.date_diagnosed < 100) & np.logical_not(sim_ranker.people.date_diagnosed < 100)).nonzero()"
   ]
  },
  {
   "cell_type": "code",
   "execution_count": null,
   "id": "ae9ca2f0-1c8c-4fec-be83-1930583c91a1",
   "metadata": {},
   "outputs": [],
   "source": [
    "conts_m = cvrank.get_contacts_day(sim_ranker.people)\n",
    "conts_m[\"day\"] = 2\n",
    "#contacts_day = [(i,j,day, val) for i,j,val in zip(conts_m.row, conts_m.col, conts_m.data)]\n",
    "#contacts_day = conts_m[[\"i\",\"j\",\"day\",\"m\"]].to_records(index=False)"
   ]
  },
  {
   "cell_type": "code",
   "execution_count": null,
   "id": "32d766cd-0501-4d1c-a2d0-79553febc911",
   "metadata": {},
   "outputs": [],
   "source": [
    "%%timeit \n",
    " conts_m[[\"i\",\"j\",\"day\",\"m\"]].to_records(index=False)"
   ]
  },
  {
   "cell_type": "code",
   "execution_count": null,
   "id": "d2309bc1-e717-4e1a-b95d-2bc7d8754ae3",
   "metadata": {},
   "outputs": [],
   "source": [
    "%%timeit \n",
    "\n",
    "tuple(zip(conts_m.i, conts_m.j, conts_m.day, conts_m.m))"
   ]
  },
  {
   "cell_type": "code",
   "execution_count": null,
   "id": "f05db670-37bf-4c98-9008-b8a3fcf30ab3",
   "metadata": {},
   "outputs": [],
   "source": [
    "plt.plot(sim_ct.results[\"n_diagnosed\"].values/sim_ct.results[\"n_infectious\"].values)\n",
    "plt.plot(sim_ranker.results[\"n_diagnosed\"].values/sim_ranker.results[\"n_infectious\"].values)\n",
    "#[\"variant\"][\"n_infectious_by_variant\"]\n",
    "#plt.yscale(\"log\")"
   ]
  },
  {
   "cell_type": "code",
   "execution_count": null,
   "id": "779d2e5e-af63-4bd0-a427-46b253f94f59",
   "metadata": {},
   "outputs": [],
   "source": [
    "plt.plot(sim_ct.results[\"n_quarantined\"])\n",
    "plt.plot(sim_ranker.results[\"n_quarantined\"])\n",
    "plt.yscale(\"log\")"
   ]
  },
  {
   "cell_type": "code",
   "execution_count": null,
   "id": "b6f3b270-f335-4b0f-bfdf-e979a7ac4a91",
   "metadata": {},
   "outputs": [],
   "source": [
    "k=\"n_infectious\"\n",
    "plt.plot(sim_test.results[k], \"--\", color=\"black\")\n",
    "\n",
    "plt.plot(sim_ct.results[k])\n",
    "plt.plot(sim_ranker.results[k])\n",
    "plt.plot(sim_ranker_ct.results[k])\n",
    "\n",
    "plt.yscale(\"log\")"
   ]
  },
  {
   "cell_type": "code",
   "execution_count": null,
   "id": "03c70bb1-f8e8-465c-93ad-26eacb019d4c",
   "metadata": {},
   "outputs": [],
   "source": [
    "k=\"n_quarantined\"\n",
    "plt.plot(sim_test.results[k], \"--\", color=\"black\")\n",
    "\n",
    "#plt.plot(sim_ct.results[k])\n",
    "plt.plot(sim_ranker.results[k])\n",
    "#plt.plot(sim_ranker_ct.results[k])\n",
    "plt.plot(sim_ranker_sib.results[k])\n",
    "\n",
    "plt.yscale(\"log\")"
   ]
  },
  {
   "cell_type": "code",
   "execution_count": null,
   "id": "49ade0ec-5e54-430c-8b5c-784be82a8734",
   "metadata": {},
   "outputs": [],
   "source": [
    "o=(sim_ranker.results[\"n_alive\"])\n",
    "o.index"
   ]
  },
  {
   "cell_type": "code",
   "execution_count": null,
   "id": "7a578470-67b6-456a-b5aa-41614a23f337",
   "metadata": {},
   "outputs": [],
   "source": [
    "np.save(\"sim_MF_results\", sim_ranker.results[\"cum_infections\"], allow_pickle=False)"
   ]
  },
  {
   "cell_type": "code",
   "execution_count": null,
   "id": "517ebc42-9404-48ae-8f5d-b924864c2955",
   "metadata": {},
   "outputs": [],
   "source": [
    "sibPars.fakeobs"
   ]
  },
  {
   "cell_type": "code",
   "execution_count": null,
   "id": "dd6918aa-507c-4b33-8918-74831744caed",
   "metadata": {},
   "outputs": [],
   "source": [
    "np.load(\"sim_MF_results.npy\")"
   ]
  },
  {
   "cell_type": "code",
   "execution_count": null,
   "id": "ed8c9356-af02-4a2c-b6d0-74f06342f193",
   "metadata": {},
   "outputs": [],
   "source": [
    "k=\"cum_infections\"\n",
    "plt.plot(sim_test.results[k], \"--\", color=\"black\")\n",
    "\n",
    "plt.plot(sim_ct.results[k])\n",
    "plt.plot(sim_ranker.results[k])\n",
    "plt.plot(sim_ranker_ct.results[k])\n",
    "plt.plot(sim)\n",
    "\n",
    "plt.hlines(sp[\"pop_size\"], 0, 100, ls=\"--\",color=\"red\")\n",
    "plt.yscale(\"log\")"
   ]
  },
  {
   "cell_type": "code",
   "execution_count": null,
   "id": "3289d111-b7a4-4f5c-8bb0-902059e57bd2",
   "metadata": {},
   "outputs": [],
   "source": [
    "k=\"cum_infections\"\n",
    "plt.plot(sim_test.results[k], \"--\", color=\"black\")\n",
    "\n",
    "plt.plot(sim_ct.results[k])\n",
    "plt.plot(sim_ranker.results[k])\n",
    "plt.plot(sim_ranker_ct.results[k])\n",
    "\n",
    "plt.hlines(sp[\"pop_size\"], 0, 100, ls=\"--\",color=\"red\")\n",
    "plt.yscale(\"log\")"
   ]
  },
  {
   "cell_type": "code",
   "execution_count": null,
   "id": "505f0562-69f3-4afd-946a-84a36e6deb94",
   "metadata": {},
   "outputs": [],
   "source": [
    "k=\"cum_severe\"\n",
    "plt.plot(sim_test.results[k], \"--\", color=\"black\")\n",
    "\n",
    "plt.plot(sim_ct.results[k])\n",
    "plt.plot(sim_ranker.results[k])\n",
    "plt.plot(sim_ranker_ct.results[k])\n",
    "\n",
    "plt.hlines(sp[\"pop_size\"], 0, 100, ls=\"--\",color=\"red\")\n",
    "plt.yscale(\"log\")"
   ]
  },
  {
   "cell_type": "code",
   "execution_count": null,
   "id": "9a8590bf-e3df-47a6-884f-7455b6f62e67",
   "metadata": {},
   "outputs": [],
   "source": []
  }
 ],
 "metadata": {
  "kernelspec": {
   "display_name": "Python (3.9) covasim",
   "language": "python",
   "name": "python_cvsim"
  },
  "language_info": {
   "codemirror_mode": {
    "name": "ipython",
    "version": 3
   },
   "file_extension": ".py",
   "mimetype": "text/x-python",
   "name": "python",
   "nbconvert_exporter": "python",
   "pygments_lexer": "ipython3",
   "version": "3.9.7"
  }
 },
 "nbformat": 4,
 "nbformat_minor": 5
}
